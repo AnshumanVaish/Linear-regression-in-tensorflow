{
 "cells": [
  {
   "cell_type": "code",
   "execution_count": 1,
   "metadata": {},
   "outputs": [
    {
     "name": "stderr",
     "output_type": "stream",
     "text": [
      "C:\\ProgramData\\Anaconda3\\lib\\site-packages\\h5py\\__init__.py:36: FutureWarning: Conversion of the second argument of issubdtype from `float` to `np.floating` is deprecated. In future, it will be treated as `np.float64 == np.dtype(float).type`.\n",
      "  from ._conv import register_converters as _register_converters\n"
     ]
    }
   ],
   "source": [
    "import tensorflow as tf"
   ]
  },
  {
   "cell_type": "code",
   "execution_count": 2,
   "metadata": {},
   "outputs": [],
   "source": [
    "import re"
   ]
  },
  {
   "cell_type": "code",
   "execution_count": 3,
   "metadata": {},
   "outputs": [],
   "source": [
    "mf=open('birth_life_2010.txt')"
   ]
  },
  {
   "cell_type": "code",
   "execution_count": 4,
   "metadata": {},
   "outputs": [
    {
     "data": {
      "text/plain": [
       "'Country\\tBirth rate\\tLife expectancy\\nVietnam\\t1.822\\t74.828243902\\nVanuatu\\t3.869\\t70.819487805\\nTonga\\t3.911\\t72.150658537\\nTimor-Leste\\t5.578\\t61.999853659\\nThailand\\t1.579\\t73.927658537\\nSolomon Islands\\t4.229\\t67.465195122\\nSingapore\\t1.15\\t81.641463415\\nSamoa\\t3.86\\t72.306390244\\nPhilippines\\t3.142\\t68.484317073\\nPapua New Guinea\\t3.951\\t62.440609756\\nNew Zealand\\t2.16\\t80.702439024\\nNew Caledonia\\t2.141\\t76.301682927\\nMyanmar\\t2.002\\t64.662097561\\nMongolia\\t2.504\\t68.194975610\\nMicronesia\\t3.451\\t68.764829268\\nMalaysia\\t2.635\\t74.024560976\\nMacao SAR, China\\t1.092\\t80.775317073\\nLao PDR\\t2.747\\t67.064\\nKorea\\t1.22\\t80.761951220\\nJapan\\t1.39\\t82.932682927\\nIndonesia\\t2.117\\t68.889658537\\nHong Kong SAR, China\\t1.108\\t82.878048780\\nGuam\\t2.47\\t75.994268293\\nFrench Polynesia\\t2.09\\t75.076878049\\nFiji\\t2.668\\t69.225829268\\nDem. Rep. Korea\\t2.022\\t68.532146341\\nChina\\t1.598\\t73.273097561\\nCambodia\\t2.581\\t62.536219512\\nBrunei\\t2.042\\t77.932024390\\nAustralia\\t1.92\\t81.695121951\\nUzbekistan\\t2.499\\t68.001\\nUnited Kingdom\\t1.94\\t80.402439024\\nUkraine\\t1.445\\t70.275609756\\nTurkmenistan\\t2.399\\t64.863512195\\nTurkey\\t2.088\\t73.696658537\\nTajikistan\\t3.297\\t67.259902439\\nSwitzerland\\t1.5\\t82.246341463\\nSweden\\t1.98\\t81.451219512\\nSpain\\t1.39\\t81.626829268\\nSlovenia\\t1.57\\t79.421951220\\nSlovak Republic\\t1.4\\t75.112195122\\nSerbia\\t1.4\\t73.936585366\\nRussia\\t1.54\\t68.804878049\\nRomania\\t1.38\\t73.458536585\\nPortugal\\t1.32\\t79.026829268\\nPoland\\t1.38\\t76.246341463\\nNorway\\t1.95\\t80.997560976\\nNetherlands\\t1.79\\t80.702439024\\nMontenegro\\t1.656\\t74.311097561\\nMoldova\\t1.475\\t68.903707317\\nMacedonia\\t1.422\\t74.618853659\\nLuxembourg\\t1.63\\t80.087804878\\nLithuania\\t1.55\\t73.268292683\\nLatvia\\t1.17\\t73.482926829\\nKyrgyz Republic\\t2.898\\t69.368463415\\nKosovo\\t2.2893\\t69.884390244\\nKazakhstan\\t2.59\\t68.295365854\\nItaly\\t1.4\\t81.736585366\\nIreland\\t2.07\\t80.291951220\\nIceland\\t2.2\\t81.451219512\\nHungary\\t1.25\\t74.207317073\\nGreece\\t1.44\\t80.387804878\\nGermany\\t1.39\\t79.987804878\\nGeorgia\\t1.555\\t73.327341463\\nFrance\\t2\\t81.368292683\\nFinland\\t1.87\\t79.870731707\\nEstonia\\t1.63\\t75.429268293\\nDenmark\\t1.87\\t79.1\\nCzech Republic\\t1.49\\t77.424390244\\nCyprus\\t1.476\\t79.380390244\\nCroatia\\t1.46\\t76.475609756\\nChannel Islands\\t1.46\\t79.832\\nBulgaria\\t1.49\\t73.512195122\\nBosnia and Herzegovina\\t1.148\\t75.400439024\\nBelgium\\t1.84\\t79.936585366\\nBelarus\\t1.44\\t70.404878049\\nAzerbaijan\\t2.3\\t70.506512195\\nAustria\\t1.44\\t80.382926829\\nArmenia\\t1.736\\t73.783560976\\nAlbania\\t1.536\\t76.900951220\\nVirgin Islands\\t1.8\\t79.189439024\\nVenezuela\\t2.49\\t74.127317073\\nUruguay\\t1.9856\\t76.236829268\\nTrinidad and Tobago\\t1.639\\t69.755\\nThe Bahamas\\t1.896\\t75.222121951\\nSuriname\\t2.336\\t70.335317073\\nSt. Vincent and the Grenadines\\t2.064\\t72.112536585\\nSt. Lucia\\t1.98\\t74.439902439\\nPuerto Rico\\t1.797\\t78.913292683\\nPeru\\t2.501\\t73.764975610\\nParaguay\\t2.954\\t72.277\\nPanama\\t2.484\\t75.974243902\\nNicaragua\\t2.622\\t73.729219512\\nMexico\\t2.32\\t76.683780488\\nJamaica\\t2.329\\t72.847121951\\nHonduras\\t3.139\\t72.825926829\\nHaiti\\t3.34\\t61.763\\nGuyana\\t2.262\\t69.549146341\\nGuatemala\\t3.983\\t70.825414634\\nGrenada\\t2.235\\t75.660439024\\nEl Salvador\\t2.25\\t71.732365854\\nEcuador\\t2.479\\t75.462292683\\nDominican Republic\\t2.58\\t73.200024390\\nCuba\\t1.467\\t78.964146341\\nCosta Rica\\t1.848\\t79.192609756\\nColombia\\t2.1\\t73.429682927\\nChile\\t1.862\\t78.885731707\\nBrazil\\t1.83\\t73.099536585\\nBolivia\\t3.348\\t66.268560976\\nBelize\\t2.79\\t75.839951220\\nBarbados\\t1.551\\t76.572829268\\nAruba\\t1.699\\t74.975170732\\nArgentina\\t2.211\\t75.632146341\\nYemen\\t5.2\\t65.030463415\\nWest Bank and Gaza\\t4.453\\t72.643682927\\nUnited Arab Emirates\\t1.749\\t76.573609756\\nTunisia\\t2.04\\t74.6\\nSyrian Arab Republic\\t2.934\\t75.702560976\\nSaudi Arabia\\t2.811\\t73.850414634\\nQatar\\t2.271\\t78.097585366\\nOman\\t2.309\\t73.124609756\\nMorocco\\t2.279\\t71.864634146\\nMalta\\t1.38\\t80.948780488\\nLibya\\t2.564\\t74.753121951\\nLebanon\\t1.8\\t72.408756098\\nKuwait\\t2.295\\t74.604731707\\nJordan\\t3.8\\t73.289658537\\nIsrael\\t3.03\\t81.504878049\\nIraq\\t4.702\\t68.486048780\\nIran\\t1.67\\t72.751853659\\nEgypt\\t2.733\\t72.975268293\\nDjibouti\\t3.75\\t57.527390244\\nBahrain\\t2.54\\t75.023829268\\nAlgeria\\t2.264\\t72.852536585\\nUnited States\\t2.1\\t78.241463415\\nCanada\\t1.677\\t80.797804878\\nBermuda\\t1.764\\t79.288536585\\nSri Lanka\\t2.313\\t74.722609756\\nPakistan\\t3.423\\t65.198853659\\nNepal\\t2.727\\t68.394829268\\nMaldives\\t1.752\\t76.551414634\\nIndia\\t2.625\\t65.131341463\\nBhutan\\t2.399\\t66.908853659\\nBangladesh\\t2.245\\t68.634804878\\nAfghanistan\\t6.288\\t48.282195122\\nZimbabwe\\t3.29\\t49.860878049\\nZambia\\t6.258\\t48.455487805\\nUganda\\t6.149\\t53.614634146\\nTogo\\t4.072\\t56.588707317\\nThe Gambia\\t4.896\\t58.160024390\\nTanzania\\t5.544\\t57.387487805\\nSwaziland\\t3.364\\t48.342804878\\nSudan\\t4.4\\t61.108243902\\nSouth Africa\\t2.458\\t52.081487805\\nSomalia\\t6.339\\t50.895536585\\nSierra Leone\\t4.982\\t47.402195122\\nSeychelles\\t2.5\\t73.034146341\\nSenegal\\t4.819\\t58.954073171\\nRwanda\\t5.371\\t55.057121951\\nNigeria\\t5.525\\t51.410024390\\nNiger\\t7.063\\t54.265634146\\nNamibia\\t3.217\\t62.070097561\\nMozambique\\t4.912\\t49.696926829\\nMauritius\\t1.47\\t72.967317073\\nMauritania\\t4.533\\t58.216951220\\nMali\\t6.294\\t50.954829268\\nMalawi\\t5.99\\t53.462634146\\nMadagascar\\t4.651\\t66.467073171\\nLiberia\\t5.238\\t56.147585366\\nLesotho\\t3.199\\t47.365073171\\nKenya\\t4.718\\t56.497073171\\nGuinea-Bissau\\t5.063\\t47.700658537\\nGuinea\\t5.246\\t53.638585366\\nGhana\\t4.17\\t63.837268293\\nGabon\\t3.25\\t62.286682927\\nEthiopia\\t4.193\\t58.715097561\\nEritrea\\t4.453\\t60.994195122\\nEquatorial Guinea\\t5.185\\t50.840804878\\nDem. Rep. Congo\\t5.775\\t48.069585366\\nCongo\\t4.544\\t56.960195122\\nComoros\\t4.919\\t60.626268293\\nChad\\t5.981\\t49.194829268\\nCentral African Republic\\t4.631\\t47.618463415\\nCape Verde\\t2.405\\t73.774048780\\nCameroon\\t4.487\\t51.062756098\\nBurundi\\t4.338\\t49.877219512\\nBurkina Faso\\t5.85\\t54.924195122\\nBotswana\\t2.75\\t53.109512195\\nBenin\\t5.287\\t55.585585366\\nAngola\\t5.443\\t50.653658537\\n'"
      ]
     },
     "execution_count": 4,
     "metadata": {},
     "output_type": "execute_result"
    }
   ],
   "source": [
    "mf.read()"
   ]
  },
  {
   "cell_type": "code",
   "execution_count": 5,
   "metadata": {},
   "outputs": [
    {
     "data": {
      "text/plain": [
       "0"
      ]
     },
     "execution_count": 5,
     "metadata": {},
     "output_type": "execute_result"
    }
   ],
   "source": [
    "mf.seek(0)"
   ]
  },
  {
   "cell_type": "code",
   "execution_count": 6,
   "metadata": {},
   "outputs": [],
   "source": [
    "x=mf.readlines()"
   ]
  },
  {
   "cell_type": "code",
   "execution_count": 7,
   "metadata": {},
   "outputs": [
    {
     "name": "stdout",
     "output_type": "stream",
     "text": [
      "['Country\\tBirth rate\\tLife expectancy\\n', 'Vietnam\\t1.822\\t74.828243902\\n', 'Vanuatu\\t3.869\\t70.819487805\\n', 'Tonga\\t3.911\\t72.150658537\\n', 'Timor-Leste\\t5.578\\t61.999853659\\n', 'Thailand\\t1.579\\t73.927658537\\n', 'Solomon Islands\\t4.229\\t67.465195122\\n', 'Singapore\\t1.15\\t81.641463415\\n', 'Samoa\\t3.86\\t72.306390244\\n', 'Philippines\\t3.142\\t68.484317073\\n', 'Papua New Guinea\\t3.951\\t62.440609756\\n', 'New Zealand\\t2.16\\t80.702439024\\n', 'New Caledonia\\t2.141\\t76.301682927\\n', 'Myanmar\\t2.002\\t64.662097561\\n', 'Mongolia\\t2.504\\t68.194975610\\n', 'Micronesia\\t3.451\\t68.764829268\\n', 'Malaysia\\t2.635\\t74.024560976\\n', 'Macao SAR, China\\t1.092\\t80.775317073\\n', 'Lao PDR\\t2.747\\t67.064\\n', 'Korea\\t1.22\\t80.761951220\\n', 'Japan\\t1.39\\t82.932682927\\n', 'Indonesia\\t2.117\\t68.889658537\\n', 'Hong Kong SAR, China\\t1.108\\t82.878048780\\n', 'Guam\\t2.47\\t75.994268293\\n', 'French Polynesia\\t2.09\\t75.076878049\\n', 'Fiji\\t2.668\\t69.225829268\\n', 'Dem. Rep. Korea\\t2.022\\t68.532146341\\n', 'China\\t1.598\\t73.273097561\\n', 'Cambodia\\t2.581\\t62.536219512\\n', 'Brunei\\t2.042\\t77.932024390\\n', 'Australia\\t1.92\\t81.695121951\\n', 'Uzbekistan\\t2.499\\t68.001\\n', 'United Kingdom\\t1.94\\t80.402439024\\n', 'Ukraine\\t1.445\\t70.275609756\\n', 'Turkmenistan\\t2.399\\t64.863512195\\n', 'Turkey\\t2.088\\t73.696658537\\n', 'Tajikistan\\t3.297\\t67.259902439\\n', 'Switzerland\\t1.5\\t82.246341463\\n', 'Sweden\\t1.98\\t81.451219512\\n', 'Spain\\t1.39\\t81.626829268\\n', 'Slovenia\\t1.57\\t79.421951220\\n', 'Slovak Republic\\t1.4\\t75.112195122\\n', 'Serbia\\t1.4\\t73.936585366\\n', 'Russia\\t1.54\\t68.804878049\\n', 'Romania\\t1.38\\t73.458536585\\n', 'Portugal\\t1.32\\t79.026829268\\n', 'Poland\\t1.38\\t76.246341463\\n', 'Norway\\t1.95\\t80.997560976\\n', 'Netherlands\\t1.79\\t80.702439024\\n', 'Montenegro\\t1.656\\t74.311097561\\n', 'Moldova\\t1.475\\t68.903707317\\n', 'Macedonia\\t1.422\\t74.618853659\\n', 'Luxembourg\\t1.63\\t80.087804878\\n', 'Lithuania\\t1.55\\t73.268292683\\n', 'Latvia\\t1.17\\t73.482926829\\n', 'Kyrgyz Republic\\t2.898\\t69.368463415\\n', 'Kosovo\\t2.2893\\t69.884390244\\n', 'Kazakhstan\\t2.59\\t68.295365854\\n', 'Italy\\t1.4\\t81.736585366\\n', 'Ireland\\t2.07\\t80.291951220\\n', 'Iceland\\t2.2\\t81.451219512\\n', 'Hungary\\t1.25\\t74.207317073\\n', 'Greece\\t1.44\\t80.387804878\\n', 'Germany\\t1.39\\t79.987804878\\n', 'Georgia\\t1.555\\t73.327341463\\n', 'France\\t2\\t81.368292683\\n', 'Finland\\t1.87\\t79.870731707\\n', 'Estonia\\t1.63\\t75.429268293\\n', 'Denmark\\t1.87\\t79.1\\n', 'Czech Republic\\t1.49\\t77.424390244\\n', 'Cyprus\\t1.476\\t79.380390244\\n', 'Croatia\\t1.46\\t76.475609756\\n', 'Channel Islands\\t1.46\\t79.832\\n', 'Bulgaria\\t1.49\\t73.512195122\\n', 'Bosnia and Herzegovina\\t1.148\\t75.400439024\\n', 'Belgium\\t1.84\\t79.936585366\\n', 'Belarus\\t1.44\\t70.404878049\\n', 'Azerbaijan\\t2.3\\t70.506512195\\n', 'Austria\\t1.44\\t80.382926829\\n', 'Armenia\\t1.736\\t73.783560976\\n', 'Albania\\t1.536\\t76.900951220\\n', 'Virgin Islands\\t1.8\\t79.189439024\\n', 'Venezuela\\t2.49\\t74.127317073\\n', 'Uruguay\\t1.9856\\t76.236829268\\n', 'Trinidad and Tobago\\t1.639\\t69.755\\n', 'The Bahamas\\t1.896\\t75.222121951\\n', 'Suriname\\t2.336\\t70.335317073\\n', 'St. Vincent and the Grenadines\\t2.064\\t72.112536585\\n', 'St. Lucia\\t1.98\\t74.439902439\\n', 'Puerto Rico\\t1.797\\t78.913292683\\n', 'Peru\\t2.501\\t73.764975610\\n', 'Paraguay\\t2.954\\t72.277\\n', 'Panama\\t2.484\\t75.974243902\\n', 'Nicaragua\\t2.622\\t73.729219512\\n', 'Mexico\\t2.32\\t76.683780488\\n', 'Jamaica\\t2.329\\t72.847121951\\n', 'Honduras\\t3.139\\t72.825926829\\n', 'Haiti\\t3.34\\t61.763\\n', 'Guyana\\t2.262\\t69.549146341\\n', 'Guatemala\\t3.983\\t70.825414634\\n', 'Grenada\\t2.235\\t75.660439024\\n', 'El Salvador\\t2.25\\t71.732365854\\n', 'Ecuador\\t2.479\\t75.462292683\\n', 'Dominican Republic\\t2.58\\t73.200024390\\n', 'Cuba\\t1.467\\t78.964146341\\n', 'Costa Rica\\t1.848\\t79.192609756\\n', 'Colombia\\t2.1\\t73.429682927\\n', 'Chile\\t1.862\\t78.885731707\\n', 'Brazil\\t1.83\\t73.099536585\\n', 'Bolivia\\t3.348\\t66.268560976\\n', 'Belize\\t2.79\\t75.839951220\\n', 'Barbados\\t1.551\\t76.572829268\\n', 'Aruba\\t1.699\\t74.975170732\\n', 'Argentina\\t2.211\\t75.632146341\\n', 'Yemen\\t5.2\\t65.030463415\\n', 'West Bank and Gaza\\t4.453\\t72.643682927\\n', 'United Arab Emirates\\t1.749\\t76.573609756\\n', 'Tunisia\\t2.04\\t74.6\\n', 'Syrian Arab Republic\\t2.934\\t75.702560976\\n', 'Saudi Arabia\\t2.811\\t73.850414634\\n', 'Qatar\\t2.271\\t78.097585366\\n', 'Oman\\t2.309\\t73.124609756\\n', 'Morocco\\t2.279\\t71.864634146\\n', 'Malta\\t1.38\\t80.948780488\\n', 'Libya\\t2.564\\t74.753121951\\n', 'Lebanon\\t1.8\\t72.408756098\\n', 'Kuwait\\t2.295\\t74.604731707\\n', 'Jordan\\t3.8\\t73.289658537\\n', 'Israel\\t3.03\\t81.504878049\\n', 'Iraq\\t4.702\\t68.486048780\\n', 'Iran\\t1.67\\t72.751853659\\n', 'Egypt\\t2.733\\t72.975268293\\n', 'Djibouti\\t3.75\\t57.527390244\\n', 'Bahrain\\t2.54\\t75.023829268\\n', 'Algeria\\t2.264\\t72.852536585\\n', 'United States\\t2.1\\t78.241463415\\n', 'Canada\\t1.677\\t80.797804878\\n', 'Bermuda\\t1.764\\t79.288536585\\n', 'Sri Lanka\\t2.313\\t74.722609756\\n', 'Pakistan\\t3.423\\t65.198853659\\n', 'Nepal\\t2.727\\t68.394829268\\n', 'Maldives\\t1.752\\t76.551414634\\n', 'India\\t2.625\\t65.131341463\\n', 'Bhutan\\t2.399\\t66.908853659\\n', 'Bangladesh\\t2.245\\t68.634804878\\n', 'Afghanistan\\t6.288\\t48.282195122\\n', 'Zimbabwe\\t3.29\\t49.860878049\\n', 'Zambia\\t6.258\\t48.455487805\\n', 'Uganda\\t6.149\\t53.614634146\\n', 'Togo\\t4.072\\t56.588707317\\n', 'The Gambia\\t4.896\\t58.160024390\\n', 'Tanzania\\t5.544\\t57.387487805\\n', 'Swaziland\\t3.364\\t48.342804878\\n', 'Sudan\\t4.4\\t61.108243902\\n', 'South Africa\\t2.458\\t52.081487805\\n', 'Somalia\\t6.339\\t50.895536585\\n', 'Sierra Leone\\t4.982\\t47.402195122\\n', 'Seychelles\\t2.5\\t73.034146341\\n', 'Senegal\\t4.819\\t58.954073171\\n', 'Rwanda\\t5.371\\t55.057121951\\n', 'Nigeria\\t5.525\\t51.410024390\\n', 'Niger\\t7.063\\t54.265634146\\n', 'Namibia\\t3.217\\t62.070097561\\n', 'Mozambique\\t4.912\\t49.696926829\\n', 'Mauritius\\t1.47\\t72.967317073\\n', 'Mauritania\\t4.533\\t58.216951220\\n', 'Mali\\t6.294\\t50.954829268\\n', 'Malawi\\t5.99\\t53.462634146\\n', 'Madagascar\\t4.651\\t66.467073171\\n', 'Liberia\\t5.238\\t56.147585366\\n', 'Lesotho\\t3.199\\t47.365073171\\n', 'Kenya\\t4.718\\t56.497073171\\n', 'Guinea-Bissau\\t5.063\\t47.700658537\\n', 'Guinea\\t5.246\\t53.638585366\\n', 'Ghana\\t4.17\\t63.837268293\\n', 'Gabon\\t3.25\\t62.286682927\\n', 'Ethiopia\\t4.193\\t58.715097561\\n', 'Eritrea\\t4.453\\t60.994195122\\n', 'Equatorial Guinea\\t5.185\\t50.840804878\\n', 'Dem. Rep. Congo\\t5.775\\t48.069585366\\n', 'Congo\\t4.544\\t56.960195122\\n', 'Comoros\\t4.919\\t60.626268293\\n', 'Chad\\t5.981\\t49.194829268\\n', 'Central African Republic\\t4.631\\t47.618463415\\n', 'Cape Verde\\t2.405\\t73.774048780\\n', 'Cameroon\\t4.487\\t51.062756098\\n', 'Burundi\\t4.338\\t49.877219512\\n', 'Burkina Faso\\t5.85\\t54.924195122\\n', 'Botswana\\t2.75\\t53.109512195\\n', 'Benin\\t5.287\\t55.585585366\\n', 'Angola\\t5.443\\t50.653658537\\n']\n"
     ]
    }
   ],
   "source": [
    "print(x)"
   ]
  },
  {
   "cell_type": "code",
   "execution_count": 8,
   "metadata": {},
   "outputs": [],
   "source": [
    "b=x[2].split('\\t')"
   ]
  },
  {
   "cell_type": "code",
   "execution_count": 9,
   "metadata": {},
   "outputs": [
    {
     "name": "stdout",
     "output_type": "stream",
     "text": [
      "['Vanuatu', '3.869', '70.819487805\\n']\n"
     ]
    }
   ],
   "source": [
    "print(b)"
   ]
  },
  {
   "cell_type": "code",
   "execution_count": 10,
   "metadata": {},
   "outputs": [],
   "source": [
    "c=[]"
   ]
  },
  {
   "cell_type": "code",
   "execution_count": 11,
   "metadata": {},
   "outputs": [],
   "source": [
    "for i in range(1,len(x)):\n",
    "    b=x[i].split('\\t')\n",
    "    c.append([b[-1],b[-2]])\n",
    "    "
   ]
  },
  {
   "cell_type": "code",
   "execution_count": 12,
   "metadata": {},
   "outputs": [
    {
     "name": "stdout",
     "output_type": "stream",
     "text": [
      "[['74.828243902\\n', '1.822'], ['70.819487805\\n', '3.869'], ['72.150658537\\n', '3.911'], ['61.999853659\\n', '5.578'], ['73.927658537\\n', '1.579'], ['67.465195122\\n', '4.229'], ['81.641463415\\n', '1.15'], ['72.306390244\\n', '3.86'], ['68.484317073\\n', '3.142'], ['62.440609756\\n', '3.951'], ['80.702439024\\n', '2.16'], ['76.301682927\\n', '2.141'], ['64.662097561\\n', '2.002'], ['68.194975610\\n', '2.504'], ['68.764829268\\n', '3.451'], ['74.024560976\\n', '2.635'], ['80.775317073\\n', '1.092'], ['67.064\\n', '2.747'], ['80.761951220\\n', '1.22'], ['82.932682927\\n', '1.39'], ['68.889658537\\n', '2.117'], ['82.878048780\\n', '1.108'], ['75.994268293\\n', '2.47'], ['75.076878049\\n', '2.09'], ['69.225829268\\n', '2.668'], ['68.532146341\\n', '2.022'], ['73.273097561\\n', '1.598'], ['62.536219512\\n', '2.581'], ['77.932024390\\n', '2.042'], ['81.695121951\\n', '1.92'], ['68.001\\n', '2.499'], ['80.402439024\\n', '1.94'], ['70.275609756\\n', '1.445'], ['64.863512195\\n', '2.399'], ['73.696658537\\n', '2.088'], ['67.259902439\\n', '3.297'], ['82.246341463\\n', '1.5'], ['81.451219512\\n', '1.98'], ['81.626829268\\n', '1.39'], ['79.421951220\\n', '1.57'], ['75.112195122\\n', '1.4'], ['73.936585366\\n', '1.4'], ['68.804878049\\n', '1.54'], ['73.458536585\\n', '1.38'], ['79.026829268\\n', '1.32'], ['76.246341463\\n', '1.38'], ['80.997560976\\n', '1.95'], ['80.702439024\\n', '1.79'], ['74.311097561\\n', '1.656'], ['68.903707317\\n', '1.475'], ['74.618853659\\n', '1.422'], ['80.087804878\\n', '1.63'], ['73.268292683\\n', '1.55'], ['73.482926829\\n', '1.17'], ['69.368463415\\n', '2.898'], ['69.884390244\\n', '2.2893'], ['68.295365854\\n', '2.59'], ['81.736585366\\n', '1.4'], ['80.291951220\\n', '2.07'], ['81.451219512\\n', '2.2'], ['74.207317073\\n', '1.25'], ['80.387804878\\n', '1.44'], ['79.987804878\\n', '1.39'], ['73.327341463\\n', '1.555'], ['81.368292683\\n', '2'], ['79.870731707\\n', '1.87'], ['75.429268293\\n', '1.63'], ['79.1\\n', '1.87'], ['77.424390244\\n', '1.49'], ['79.380390244\\n', '1.476'], ['76.475609756\\n', '1.46'], ['79.832\\n', '1.46'], ['73.512195122\\n', '1.49'], ['75.400439024\\n', '1.148'], ['79.936585366\\n', '1.84'], ['70.404878049\\n', '1.44'], ['70.506512195\\n', '2.3'], ['80.382926829\\n', '1.44'], ['73.783560976\\n', '1.736'], ['76.900951220\\n', '1.536'], ['79.189439024\\n', '1.8'], ['74.127317073\\n', '2.49'], ['76.236829268\\n', '1.9856'], ['69.755\\n', '1.639'], ['75.222121951\\n', '1.896'], ['70.335317073\\n', '2.336'], ['72.112536585\\n', '2.064'], ['74.439902439\\n', '1.98'], ['78.913292683\\n', '1.797'], ['73.764975610\\n', '2.501'], ['72.277\\n', '2.954'], ['75.974243902\\n', '2.484'], ['73.729219512\\n', '2.622'], ['76.683780488\\n', '2.32'], ['72.847121951\\n', '2.329'], ['72.825926829\\n', '3.139'], ['61.763\\n', '3.34'], ['69.549146341\\n', '2.262'], ['70.825414634\\n', '3.983'], ['75.660439024\\n', '2.235'], ['71.732365854\\n', '2.25'], ['75.462292683\\n', '2.479'], ['73.200024390\\n', '2.58'], ['78.964146341\\n', '1.467'], ['79.192609756\\n', '1.848'], ['73.429682927\\n', '2.1'], ['78.885731707\\n', '1.862'], ['73.099536585\\n', '1.83'], ['66.268560976\\n', '3.348'], ['75.839951220\\n', '2.79'], ['76.572829268\\n', '1.551'], ['74.975170732\\n', '1.699'], ['75.632146341\\n', '2.211'], ['65.030463415\\n', '5.2'], ['72.643682927\\n', '4.453'], ['76.573609756\\n', '1.749'], ['74.6\\n', '2.04'], ['75.702560976\\n', '2.934'], ['73.850414634\\n', '2.811'], ['78.097585366\\n', '2.271'], ['73.124609756\\n', '2.309'], ['71.864634146\\n', '2.279'], ['80.948780488\\n', '1.38'], ['74.753121951\\n', '2.564'], ['72.408756098\\n', '1.8'], ['74.604731707\\n', '2.295'], ['73.289658537\\n', '3.8'], ['81.504878049\\n', '3.03'], ['68.486048780\\n', '4.702'], ['72.751853659\\n', '1.67'], ['72.975268293\\n', '2.733'], ['57.527390244\\n', '3.75'], ['75.023829268\\n', '2.54'], ['72.852536585\\n', '2.264'], ['78.241463415\\n', '2.1'], ['80.797804878\\n', '1.677'], ['79.288536585\\n', '1.764'], ['74.722609756\\n', '2.313'], ['65.198853659\\n', '3.423'], ['68.394829268\\n', '2.727'], ['76.551414634\\n', '1.752'], ['65.131341463\\n', '2.625'], ['66.908853659\\n', '2.399'], ['68.634804878\\n', '2.245'], ['48.282195122\\n', '6.288'], ['49.860878049\\n', '3.29'], ['48.455487805\\n', '6.258'], ['53.614634146\\n', '6.149'], ['56.588707317\\n', '4.072'], ['58.160024390\\n', '4.896'], ['57.387487805\\n', '5.544'], ['48.342804878\\n', '3.364'], ['61.108243902\\n', '4.4'], ['52.081487805\\n', '2.458'], ['50.895536585\\n', '6.339'], ['47.402195122\\n', '4.982'], ['73.034146341\\n', '2.5'], ['58.954073171\\n', '4.819'], ['55.057121951\\n', '5.371'], ['51.410024390\\n', '5.525'], ['54.265634146\\n', '7.063'], ['62.070097561\\n', '3.217'], ['49.696926829\\n', '4.912'], ['72.967317073\\n', '1.47'], ['58.216951220\\n', '4.533'], ['50.954829268\\n', '6.294'], ['53.462634146\\n', '5.99'], ['66.467073171\\n', '4.651'], ['56.147585366\\n', '5.238'], ['47.365073171\\n', '3.199'], ['56.497073171\\n', '4.718'], ['47.700658537\\n', '5.063'], ['53.638585366\\n', '5.246'], ['63.837268293\\n', '4.17'], ['62.286682927\\n', '3.25'], ['58.715097561\\n', '4.193'], ['60.994195122\\n', '4.453'], ['50.840804878\\n', '5.185'], ['48.069585366\\n', '5.775'], ['56.960195122\\n', '4.544'], ['60.626268293\\n', '4.919'], ['49.194829268\\n', '5.981'], ['47.618463415\\n', '4.631'], ['73.774048780\\n', '2.405'], ['51.062756098\\n', '4.487'], ['49.877219512\\n', '4.338'], ['54.924195122\\n', '5.85'], ['53.109512195\\n', '2.75'], ['55.585585366\\n', '5.287'], ['50.653658537\\n', '5.443']]\n"
     ]
    }
   ],
   "source": [
    "print(c)"
   ]
  },
  {
   "cell_type": "code",
   "execution_count": 13,
   "metadata": {},
   "outputs": [],
   "source": [
    "X=[]"
   ]
  },
  {
   "cell_type": "code",
   "execution_count": 14,
   "metadata": {},
   "outputs": [],
   "source": [
    "Y=[]"
   ]
  },
  {
   "cell_type": "code",
   "execution_count": 15,
   "metadata": {},
   "outputs": [],
   "source": [
    "for i in range(0,len(c)):\n",
    "    X.append(float(c[i][-1]))\n",
    "    Y.append(float(c[i][-2]))"
   ]
  },
  {
   "cell_type": "code",
   "execution_count": 16,
   "metadata": {},
   "outputs": [
    {
     "name": "stdout",
     "output_type": "stream",
     "text": [
      "[1.822, 3.869, 3.911, 5.578, 1.579, 4.229, 1.15, 3.86, 3.142, 3.951, 2.16, 2.141, 2.002, 2.504, 3.451, 2.635, 1.092, 2.747, 1.22, 1.39, 2.117, 1.108, 2.47, 2.09, 2.668, 2.022, 1.598, 2.581, 2.042, 1.92, 2.499, 1.94, 1.445, 2.399, 2.088, 3.297, 1.5, 1.98, 1.39, 1.57, 1.4, 1.4, 1.54, 1.38, 1.32, 1.38, 1.95, 1.79, 1.656, 1.475, 1.422, 1.63, 1.55, 1.17, 2.898, 2.2893, 2.59, 1.4, 2.07, 2.2, 1.25, 1.44, 1.39, 1.555, 2.0, 1.87, 1.63, 1.87, 1.49, 1.476, 1.46, 1.46, 1.49, 1.148, 1.84, 1.44, 2.3, 1.44, 1.736, 1.536, 1.8, 2.49, 1.9856, 1.639, 1.896, 2.336, 2.064, 1.98, 1.797, 2.501, 2.954, 2.484, 2.622, 2.32, 2.329, 3.139, 3.34, 2.262, 3.983, 2.235, 2.25, 2.479, 2.58, 1.467, 1.848, 2.1, 1.862, 1.83, 3.348, 2.79, 1.551, 1.699, 2.211, 5.2, 4.453, 1.749, 2.04, 2.934, 2.811, 2.271, 2.309, 2.279, 1.38, 2.564, 1.8, 2.295, 3.8, 3.03, 4.702, 1.67, 2.733, 3.75, 2.54, 2.264, 2.1, 1.677, 1.764, 2.313, 3.423, 2.727, 1.752, 2.625, 2.399, 2.245, 6.288, 3.29, 6.258, 6.149, 4.072, 4.896, 5.544, 3.364, 4.4, 2.458, 6.339, 4.982, 2.5, 4.819, 5.371, 5.525, 7.063, 3.217, 4.912, 1.47, 4.533, 6.294, 5.99, 4.651, 5.238, 3.199, 4.718, 5.063, 5.246, 4.17, 3.25, 4.193, 4.453, 5.185, 5.775, 4.544, 4.919, 5.981, 4.631, 2.405, 4.487, 4.338, 5.85, 2.75, 5.287, 5.443]\n"
     ]
    }
   ],
   "source": [
    "print(X)"
   ]
  },
  {
   "cell_type": "code",
   "execution_count": 17,
   "metadata": {},
   "outputs": [
    {
     "name": "stdout",
     "output_type": "stream",
     "text": [
      "[74.828243902, 70.819487805, 72.150658537, 61.999853659, 73.927658537, 67.465195122, 81.641463415, 72.306390244, 68.484317073, 62.440609756, 80.702439024, 76.301682927, 64.662097561, 68.19497561, 68.764829268, 74.024560976, 80.775317073, 67.064, 80.76195122, 82.932682927, 68.889658537, 82.87804878, 75.994268293, 75.076878049, 69.225829268, 68.532146341, 73.273097561, 62.536219512, 77.93202439, 81.695121951, 68.001, 80.402439024, 70.275609756, 64.863512195, 73.696658537, 67.259902439, 82.246341463, 81.451219512, 81.626829268, 79.42195122, 75.112195122, 73.936585366, 68.804878049, 73.458536585, 79.026829268, 76.246341463, 80.997560976, 80.702439024, 74.311097561, 68.903707317, 74.618853659, 80.087804878, 73.268292683, 73.482926829, 69.368463415, 69.884390244, 68.295365854, 81.736585366, 80.29195122, 81.451219512, 74.207317073, 80.387804878, 79.987804878, 73.327341463, 81.368292683, 79.870731707, 75.429268293, 79.1, 77.424390244, 79.380390244, 76.475609756, 79.832, 73.512195122, 75.400439024, 79.936585366, 70.404878049, 70.506512195, 80.382926829, 73.783560976, 76.90095122, 79.189439024, 74.127317073, 76.236829268, 69.755, 75.222121951, 70.335317073, 72.112536585, 74.439902439, 78.913292683, 73.76497561, 72.277, 75.974243902, 73.729219512, 76.683780488, 72.847121951, 72.825926829, 61.763, 69.549146341, 70.825414634, 75.660439024, 71.732365854, 75.462292683, 73.20002439, 78.964146341, 79.192609756, 73.429682927, 78.885731707, 73.099536585, 66.268560976, 75.83995122, 76.572829268, 74.975170732, 75.632146341, 65.030463415, 72.643682927, 76.573609756, 74.6, 75.702560976, 73.850414634, 78.097585366, 73.124609756, 71.864634146, 80.948780488, 74.753121951, 72.408756098, 74.604731707, 73.289658537, 81.504878049, 68.48604878, 72.751853659, 72.975268293, 57.527390244, 75.023829268, 72.852536585, 78.241463415, 80.797804878, 79.288536585, 74.722609756, 65.198853659, 68.394829268, 76.551414634, 65.131341463, 66.908853659, 68.634804878, 48.282195122, 49.860878049, 48.455487805, 53.614634146, 56.588707317, 58.16002439, 57.387487805, 48.342804878, 61.108243902, 52.081487805, 50.895536585, 47.402195122, 73.034146341, 58.954073171, 55.057121951, 51.41002439, 54.265634146, 62.070097561, 49.696926829, 72.967317073, 58.21695122, 50.954829268, 53.462634146, 66.467073171, 56.147585366, 47.365073171, 56.497073171, 47.700658537, 53.638585366, 63.837268293, 62.286682927, 58.715097561, 60.994195122, 50.840804878, 48.069585366, 56.960195122, 60.626268293, 49.194829268, 47.618463415, 73.77404878, 51.062756098, 49.877219512, 54.924195122, 53.109512195, 55.585585366, 50.653658537]\n"
     ]
    }
   ],
   "source": [
    "print(Y)"
   ]
  },
  {
   "cell_type": "code",
   "execution_count": 18,
   "metadata": {},
   "outputs": [
    {
     "name": "stdout",
     "output_type": "stream",
     "text": [
      "190 190\n"
     ]
    }
   ],
   "source": [
    "print(len(X),len(Y))"
   ]
  },
  {
   "cell_type": "code",
   "execution_count": 19,
   "metadata": {},
   "outputs": [],
   "source": [
    "from numpy import array"
   ]
  },
  {
   "cell_type": "code",
   "execution_count": 20,
   "metadata": {},
   "outputs": [],
   "source": [
    "import matplotlib.pyplot as plt\n",
    "%matplotlib inline"
   ]
  },
  {
   "cell_type": "code",
   "execution_count": 21,
   "metadata": {},
   "outputs": [],
   "source": [
    "p=array(X)"
   ]
  },
  {
   "cell_type": "code",
   "execution_count": 22,
   "metadata": {},
   "outputs": [],
   "source": [
    "q=array(Y)"
   ]
  },
  {
   "cell_type": "code",
   "execution_count": 23,
   "metadata": {},
   "outputs": [
    {
     "data": {
      "text/plain": [
       "[<matplotlib.lines.Line2D at 0x1dfc90f6278>]"
      ]
     },
     "execution_count": 23,
     "metadata": {},
     "output_type": "execute_result"
    },
    {
     "data": {
      "image/png": "[encoded data removed]",
      "text/plain": [
       "<Figure size 432x288 with 1 Axes>"
      ]
     },
     "metadata": {},
     "output_type": "display_data"
    }
   ],
   "source": [
    "plt.plot(X,Y,'.')"
   ]
  },
  {
   "cell_type": "code",
   "execution_count": 24,
   "metadata": {},
   "outputs": [],
   "source": [
    "X_data=tf.placeholder(tf.float32)"
   ]
  },
  {
   "cell_type": "code",
   "execution_count": 25,
   "metadata": {},
   "outputs": [],
   "source": [
    "Y_label=tf.placeholder(tf.float32)"
   ]
  },
  {
   "cell_type": "code",
   "execution_count": 26,
   "metadata": {},
   "outputs": [],
   "source": [
    "m=tf.Variable(0.)\n"
   ]
  },
  {
   "cell_type": "code",
   "execution_count": 27,
   "metadata": {},
   "outputs": [],
   "source": [
    "b=tf.Variable(0.)\n"
   ]
  },
  {
   "cell_type": "code",
   "execution_count": 28,
   "metadata": {},
   "outputs": [],
   "source": [
    "yPre=tf.add(tf.multiply(X_data,m),b)"
   ]
  },
  {
   "cell_type": "code",
   "execution_count": 29,
   "metadata": {},
   "outputs": [],
   "source": [
    "error=(Y_label-yPre)**2"
   ]
  },
  {
   "cell_type": "code",
   "execution_count": 30,
   "metadata": {},
   "outputs": [],
   "source": [
    "opt=tf.train.GradientDescentOptimizer(learning_rate=0.001)"
   ]
  },
  {
   "cell_type": "code",
   "execution_count": 31,
   "metadata": {},
   "outputs": [],
   "source": [
    "train=opt.minimize(error)"
   ]
  },
  {
   "cell_type": "code",
   "execution_count": 32,
   "metadata": {},
   "outputs": [],
   "source": [
    "init=tf.global_variables_initializer()"
   ]
  },
  {
   "cell_type": "code",
   "execution_count": null,
   "metadata": {},
   "outputs": [],
   "source": [
    "with tf.Session() as sess:\n",
    "    sess.run(init)\n",
    "    tStep=1000\n",
    "    for i in range(0,tStep):\n",
    "        for j in range(0,len(X)):\n",
    "            sess.run(train,feed_dict={X_data:X[j],Y_label:Y[j]})\n",
    "    f_s,f_i=sess.run([m,b])        \n",
    "            \n",
    "    "
   ]
  },
  {
   "cell_type": "code",
   "execution_count": null,
   "metadata": {},
   "outputs": [],
   "source": [
    "print(f_s,f_i)"
   ]
  },
  {
   "cell_type": "code",
   "execution_count": null,
   "metadata": {},
   "outputs": [],
   "source": [
    "from numpy import linspace"
   ]
  },
  {
   "cell_type": "code",
   "execution_count": null,
   "metadata": {},
   "outputs": [],
   "source": [
    "x_test=linspace(0,8,10)\n",
    "y_pre_plot=f_s*x_test + f_i\n",
    "plt.plot(x_test,y_pre_plot,'r')\n",
    "plt.plot(X,Y,'.')"
   ]
  },
  {
   "cell_type": "code",
   "execution_count": null,
   "metadata": {},
   "outputs": [],
   "source": []
  }
 ],
 "metadata": {
  "kernelspec": {
   "display_name": "Python 3",
   "language": "python",
   "name": "python3"
  },
  "language_info": {
   "codemirror_mode": {
    "name": "ipython",
    "version": 3
   },
   "file_extension": ".py",
   "mimetype": "text/x-python",
   "name": "python",
   "nbconvert_exporter": "python",
   "pygments_lexer": "ipython3",
   "version": "3.6.5"
  }
 },
 "nbformat": 4,
 "nbformat_minor": 2
}
